{
  "nbformat": 4,
  "nbformat_minor": 0,
  "metadata": {
    "colab": {
      "provenance": []
    },
    "kernelspec": {
      "name": "python3",
      "display_name": "Python 3"
    },
    "language_info": {
      "name": "python"
    }
  },
  "cells": [
    {
      "cell_type": "code",
      "execution_count": 2,
      "metadata": {
        "colab": {
          "base_uri": "https://localhost:8080/",
          "height": 383
        },
        "collapsed": true,
        "id": "8TneukwXpkrn",
        "outputId": "567ecf90-0041-42f2-b862-0611bc136f3c"
      },
      "outputs": [
        {
          "output_type": "error",
          "ename": "ModuleNotFoundError",
          "evalue": "No module named 'matminer'",
          "traceback": [
            "\u001b[0;31m---------------------------------------------------------------------------\u001b[0m",
            "\u001b[0;31mModuleNotFoundError\u001b[0m                       Traceback (most recent call last)",
            "\u001b[0;32m/tmp/ipython-input-4140788199.py\u001b[0m in \u001b[0;36m<cell line: 0>\u001b[0;34m()\u001b[0m\n\u001b[1;32m      4\u001b[0m \u001b[0;34m\u001b[0m\u001b[0m\n\u001b[1;32m      5\u001b[0m \u001b[0;31m# Matminer and Pymatgen for features\u001b[0m\u001b[0;34m\u001b[0m\u001b[0;34m\u001b[0m\u001b[0m\n\u001b[0;32m----> 6\u001b[0;31m \u001b[0;32mfrom\u001b[0m \u001b[0mmatminer\u001b[0m\u001b[0;34m.\u001b[0m\u001b[0mdatasets\u001b[0m \u001b[0;32mimport\u001b[0m \u001b[0mload_dataset\u001b[0m\u001b[0;34m\u001b[0m\u001b[0;34m\u001b[0m\u001b[0m\n\u001b[0m\u001b[1;32m      7\u001b[0m \u001b[0;32mfrom\u001b[0m \u001b[0mpymatgen\u001b[0m\u001b[0;34m.\u001b[0m\u001b[0mcore\u001b[0m\u001b[0;34m.\u001b[0m\u001b[0mcomposition\u001b[0m \u001b[0;32mimport\u001b[0m \u001b[0mComposition\u001b[0m\u001b[0;34m\u001b[0m\u001b[0;34m\u001b[0m\u001b[0m\n\u001b[1;32m      8\u001b[0m \u001b[0;32mfrom\u001b[0m \u001b[0mmatminer\u001b[0m\u001b[0;34m.\u001b[0m\u001b[0mfeaturizers\u001b[0m\u001b[0;34m.\u001b[0m\u001b[0mcomposition\u001b[0m \u001b[0;32mimport\u001b[0m \u001b[0mElementProperty\u001b[0m\u001b[0;34m\u001b[0m\u001b[0;34m\u001b[0m\u001b[0m\n",
            "\u001b[0;31mModuleNotFoundError\u001b[0m: No module named 'matminer'",
            "",
            "\u001b[0;31m---------------------------------------------------------------------------\u001b[0;32m\nNOTE: If your import is failing due to a missing package, you can\nmanually install dependencies using either !pip or !apt.\n\nTo view examples of installing some common dependencies, click the\n\"Open Examples\" button below.\n\u001b[0;31m---------------------------------------------------------------------------\u001b[0m\n"
          ],
          "errorDetails": {
            "actions": [
              {
                "action": "open_url",
                "actionText": "Open Examples",
                "url": "/notebooks/snippets/importing_libraries.ipynb"
              }
            ]
          }
        }
      ],
      "source": [
        "# Basic Libraries\n",
        "import pandas as pd\n",
        "import numpy as np\n",
        "\n",
        "# Matminer and Pymatgen for features\n",
        "from matminer.datasets import load_dataset\n",
        "from pymatgen.core.composition import Composition\n",
        "from matminer.featurizers.composition import ElementProperty\n",
        "\n",
        "# Scikit-learn for modeling\n",
        "from sklearn.model_selection import train_test_split, cross_val_score\n",
        "from sklearn.ensemble import RandomForestRegressor\n",
        "from sklearn.linear_model import LinearRegression\n",
        "from sklearn.metrics import mean_squared_error, r2_score\n",
        "\n",
        "# Visualization\n",
        "import matplotlib.pyplot as plt\n",
        "import seaborn as sns\n",
        "\n",
        "sns.set(style=\"whitegrid\")\n",
        "# Load Matbench bandgap dataset\n",
        "df = load_dataset(\"matbench_bandgap\")\n",
        "print(\"Dataset Shape:\", df.shape)\n",
        "df.head()\n",
        "# Drop missing values\n",
        "df = df.dropna()\n",
        "\n",
        "# Convert formula to Pymatgen Composition object\n",
        "df[\"composition\"] = df[\"formula\"].apply(Composition)\n",
        "\n",
        "print(\"After cleaning:\", df.shape)\n",
        "df.head()\n",
        "# Initialize featurizers\n",
        "magpie = ElementProperty.from_preset(\"magpie\")\n",
        "deml = ElementProperty.from_preset(\"deml\")\n",
        "\n",
        "# Apply featurizers\n",
        "df_magpie = magpie.featurize_dataframe(df.copy(), \"composition\")\n",
        "df_deml = deml.featurize_dataframe(df.copy(), \"composition\")\n",
        "\n",
        "print(\"Magpie features shape:\", df_magpie.shape)\n",
        "print(\"DEML features shape:\", df_deml.shape)\n",
        "# Define X and y\n",
        "y = df[\"band_gap\"]\n",
        "\n",
        "X_magpie = df_magpie.drop(columns=[\"formula\",\"composition\",\"band_gap\"])\n",
        "X_deml = df_deml.drop(columns=[\"formula\",\"composition\",\"band_gap\"])\n",
        "\n",
        "# Split data (80% train, 20% test)\n",
        "X_train_m, X_test_m, y_train, y_test = train_test_split(X_magpie, y, test_size=0.2, random_state=42)\n",
        "X_train_d, X_test_d, _, _ = train_test_split(X_deml, y, test_size=0.2, random_state=42)\n",
        "# Initialize models\n",
        "models = {\n",
        "    \"Linear Regression\": LinearRegression(),\n",
        "    \"Random Forest\": RandomForestRegressor(random_state=42)\n",
        "}\n",
        "\n",
        "# Function to train and evaluate\n",
        "def evaluate_model(model, X_train, X_test, y_train, y_test):\n",
        "    model.fit(X_train, y_train)\n",
        "    y_pred = model.predict(X_test)\n",
        "    mse = mean_squared_error(y_test, y_pred)\n",
        "    r2 = r2_score(y_test, y_pred)\n",
        "    return mse, r2\n",
        "\n",
        "# Evaluate on both feature sets\n",
        "results = []\n",
        "\n",
        "for name, model in models.items():\n",
        "    mse_m, r2_m = evaluate_model(model, X_train_m, X_test_m, y_train, y_test)\n",
        "    mse_d, r2_d = evaluate_model(model, X_train_d, X_test_d, y_train, y_test)\n",
        "    results.append([name, \"Magpie\", mse_m, r2_m])\n",
        "    results.append([name, \"DEML\", mse_d, r2_d])\n",
        "\n",
        "results_df = pd.DataFrame(results, columns=[\"Model\",\"Feature_Set\",\"MSE\",\"R2\"])\n",
        "results_df\n",
        "plt.figure(figsize=(8,5))\n",
        "sns.barplot(x=\"Model\", y=\"R2\", hue=\"Feature_Set\", data=results_df)\n",
        "plt.title(\"Model Performance (R²) by Feature Set\")\n",
        "plt.show()\n",
        "\n"
      ]
    }
  ]
}